{
  "nbformat": 4,
  "nbformat_minor": 0,
  "metadata": {
    "kernelspec": {
      "display_name": "Python 3",
      "language": "python",
      "name": "python3"
    },
    "language_info": {
      "codemirror_mode": {
        "name": "ipython",
        "version": 3
      },
      "file_extension": ".py",
      "mimetype": "text/x-python",
      "name": "python",
      "nbconvert_exporter": "python",
      "pygments_lexer": "ipython3",
      "version": "3.6.4"
    },
    "colab": {
      "name": "Exercise_7.ipynb",
      "provenance": [],
      "include_colab_link": true
    }
  },
  "cells": [
    {
      "cell_type": "markdown",
      "metadata": {
        "id": "view-in-github",
        "colab_type": "text"
      },
      "source": [
        "<a href=\"https://colab.research.google.com/github/grohalex/IADS_SummerSchool/blob/main/Exercise_7.ipynb\" target=\"_parent\"><img src=\"https://colab.research.google.com/assets/colab-badge.svg\" alt=\"Open In Colab\"/></a>"
      ]
    },
    {
      "cell_type": "markdown",
      "metadata": {
        "id": "f0NJfrlT7hGu"
      },
      "source": [
        "### Classes"
      ]
    },
    {
      "cell_type": "markdown",
      "metadata": {
        "id": "UXjQRxIw7hGx"
      },
      "source": [
        "Variables, Lists, Dictionaries etc in python is a object. Without getting into the theory part of Object Oriented Programming, explanation of the concepts will be done along this tutorial."
      ]
    },
    {
      "cell_type": "markdown",
      "metadata": {
        "id": "BRpYejYq7hGx"
      },
      "source": [
        "A class is declared as follows"
      ]
    },
    {
      "cell_type": "markdown",
      "metadata": {
        "id": "aDpUetw97hGy"
      },
      "source": [
        "class class_name:\n",
        "\n",
        "    Functions"
      ]
    },
    {
      "cell_type": "code",
      "metadata": {
        "id": "nSprmAvF7hGy"
      },
      "source": [
        "class FirstClass:\n",
        "    pass"
      ],
      "execution_count": null,
      "outputs": []
    },
    {
      "cell_type": "markdown",
      "metadata": {
        "id": "jtPJvYRP7hGy"
      },
      "source": [
        "**pass** in python means do nothing. "
      ]
    },
    {
      "cell_type": "markdown",
      "metadata": {
        "id": "HgWLJoLh7hGz"
      },
      "source": [
        "Above, a class object named \"FirstClass\" is declared now consider a \"egclass\" which has all the characteristics of \"FirstClass\". So all you have to do is, equate the \"egclass\" to \"FirstClass\". In python jargon this is called as creating an instance. \"egclass\" is the instance of \"FirstClass\""
      ]
    },
    {
      "cell_type": "code",
      "metadata": {
        "id": "9MAjFuqA7hGz"
      },
      "source": [
        "egclass = FirstClass()"
      ],
      "execution_count": null,
      "outputs": []
    },
    {
      "cell_type": "markdown",
      "metadata": {
        "id": "GGD_KlUz7hGz"
      },
      "source": [
        "Now let us add some \"functionality\" to the class. So that our \"FirstClass\" is defined in a better way. A function inside a class is called as a \"Method\" of that class"
      ]
    },
    {
      "cell_type": "markdown",
      "metadata": {
        "id": "5YHwg_q37hG0"
      },
      "source": [
        "Most of the classes will have a function named \"\\_\\_init\\_\\_\". These are called as magic methods. In this method you basically initialize the variables of that class or any other initial algorithms which is applicable to all methods is specified in this method. A variable inside a class is called an attribute."
      ]
    },
    {
      "cell_type": "markdown",
      "metadata": {
        "id": "x0Rh0rss7hG0"
      },
      "source": [
        "These helps simplify the process of initializing a instance. For example,\n",
        "\n",
        "Without the use of magic method or \\_\\_init\\_\\_ which is otherwise called as constructors. One had to define a **init( )** method and call the **init( )** function."
      ]
    },
    {
      "cell_type": "code",
      "metadata": {
        "id": "srpYUX917hG0",
        "outputId": "c416b5e6-3159-45c0-eb53-25c9da9eee93"
      },
      "source": [
        "eg0 = FirstClass()\n",
        "eg0.init()"
      ],
      "execution_count": null,
      "outputs": [
        {
          "output_type": "error",
          "ename": "AttributeError",
          "evalue": "'FirstClass' object has no attribute 'init'",
          "traceback": [
            "\u001b[0;31m---------------------------------------------------------------------------\u001b[0m",
            "\u001b[0;31mAttributeError\u001b[0m                            Traceback (most recent call last)",
            "\u001b[0;32m<ipython-input-6-d15e7b8e3d78>\u001b[0m in \u001b[0;36m<module>\u001b[0;34m()\u001b[0m\n\u001b[1;32m      1\u001b[0m \u001b[0meg0\u001b[0m \u001b[0;34m=\u001b[0m \u001b[0mFirstClass\u001b[0m\u001b[0;34m(\u001b[0m\u001b[0;34m)\u001b[0m\u001b[0;34m\u001b[0m\u001b[0m\n\u001b[0;32m----> 2\u001b[0;31m \u001b[0meg0\u001b[0m\u001b[0;34m.\u001b[0m\u001b[0minit\u001b[0m\u001b[0;34m(\u001b[0m\u001b[0;34m)\u001b[0m\u001b[0;34m\u001b[0m\u001b[0m\n\u001b[0m",
            "\u001b[0;31mAttributeError\u001b[0m: 'FirstClass' object has no attribute 'init'"
          ]
        }
      ]
    },
    {
      "cell_type": "markdown",
      "metadata": {
        "id": "QP9S9KGB7hG1"
      },
      "source": [
        "But when the constructor is defined the \\_\\_init\\_\\_ is called thus intializing the instance created. "
      ]
    },
    {
      "cell_type": "markdown",
      "metadata": {
        "id": "6OyQgkdX7hG1"
      },
      "source": [
        "We will make our \"FirstClass\" to accept two variables name and symbol.\n",
        "\n",
        "I will be explaining about the \"self\" in a while."
      ]
    },
    {
      "cell_type": "code",
      "metadata": {
        "id": "MOAKiIRZ7hG2"
      },
      "source": [
        "class FirstClass:\n",
        "    def __init__(self,name,symbol):\n",
        "        self.name = name\n",
        "        self.symbol = symbol"
      ],
      "execution_count": null,
      "outputs": []
    },
    {
      "cell_type": "markdown",
      "metadata": {
        "id": "INhFOn8T7hG2"
      },
      "source": [
        "Now that we have defined a function and added the \\_\\_init\\_\\_ method. We can create a instance of FirstClass which now accepts two arguments. "
      ]
    },
    {
      "cell_type": "code",
      "metadata": {
        "id": "UxSCiLha7hG2"
      },
      "source": [
        "eg1 = FirstClass('one',1)\n",
        "eg2 = FirstClass('two',2)"
      ],
      "execution_count": null,
      "outputs": []
    },
    {
      "cell_type": "code",
      "metadata": {
        "id": "57CUODLw7hG3",
        "outputId": "2334fb77-a250-4ac3-a660-2297b6e83540"
      },
      "source": [
        "print(eg1.name, eg1.symbol)\n",
        "print(eg2.name, eg2.symbol)"
      ],
      "execution_count": null,
      "outputs": [
        {
          "output_type": "stream",
          "text": [
            "one 1\n",
            "two 2\n"
          ],
          "name": "stdout"
        }
      ]
    },
    {
      "cell_type": "markdown",
      "metadata": {
        "id": "mf_7A5Jd7hG3"
      },
      "source": [
        "Changing the FirstClass function a bit,"
      ]
    },
    {
      "cell_type": "code",
      "metadata": {
        "id": "zhV2QgBx7hG3"
      },
      "source": [
        "class FirstClass:\n",
        "    def __init__(self,name,symbol):\n",
        "        self.n = name\n",
        "        self.s = symbol"
      ],
      "execution_count": null,
      "outputs": []
    },
    {
      "cell_type": "markdown",
      "metadata": {
        "id": "0lU5DOnW7hG3"
      },
      "source": [
        "Changing self.name and self.symbol to self.n and self.s respectively will yield,"
      ]
    },
    {
      "cell_type": "code",
      "metadata": {
        "id": "Kd8Lfsaa7hG3"
      },
      "source": [
        "eg1 = FirstClass('one',1)\n",
        "eg2 = FirstClass('two',2)"
      ],
      "execution_count": null,
      "outputs": []
    },
    {
      "cell_type": "code",
      "metadata": {
        "id": "VoOKxAGf7hG4",
        "outputId": "5a76620a-33af-4456-fad5-7097ec7d22d3"
      },
      "source": [
        "print(eg1.name, eg1.symbol)\n",
        "print(eg2.name, eg2.symbol)"
      ],
      "execution_count": null,
      "outputs": [
        {
          "output_type": "error",
          "ename": "AttributeError",
          "evalue": "'FirstClass' object has no attribute 'name'",
          "traceback": [
            "\u001b[0;31m---------------------------------------------------------------------------\u001b[0m",
            "\u001b[0;31mAttributeError\u001b[0m                            Traceback (most recent call last)",
            "\u001b[0;32m<ipython-input-15-4ab7dec1c737>\u001b[0m in \u001b[0;36m<module>\u001b[0;34m()\u001b[0m\n\u001b[0;32m----> 1\u001b[0;31m \u001b[0mprint\u001b[0m\u001b[0;34m(\u001b[0m\u001b[0meg1\u001b[0m\u001b[0;34m.\u001b[0m\u001b[0mname\u001b[0m\u001b[0;34m,\u001b[0m \u001b[0meg1\u001b[0m\u001b[0;34m.\u001b[0m\u001b[0msymbol\u001b[0m\u001b[0;34m)\u001b[0m\u001b[0;34m\u001b[0m\u001b[0m\n\u001b[0m\u001b[1;32m      2\u001b[0m \u001b[0mprint\u001b[0m\u001b[0;34m(\u001b[0m\u001b[0meg2\u001b[0m\u001b[0;34m.\u001b[0m\u001b[0mname\u001b[0m\u001b[0;34m,\u001b[0m \u001b[0meg2\u001b[0m\u001b[0;34m.\u001b[0m\u001b[0msymbol\u001b[0m\u001b[0;34m)\u001b[0m\u001b[0;34m\u001b[0m\u001b[0m\n",
            "\u001b[0;31mAttributeError\u001b[0m: 'FirstClass' object has no attribute 'name'"
          ]
        }
      ]
    },
    {
      "cell_type": "markdown",
      "metadata": {
        "id": "xcH8HYdP7hG4"
      },
      "source": [
        "AttributeError, Remember variables are nothing but attributes inside a class? So this means we have not given the correct attribute for the instance."
      ]
    },
    {
      "cell_type": "code",
      "metadata": {
        "id": "b3gqXxoI7hG4",
        "outputId": "76e8535d-6158-49f2-d092-9397e68268b4"
      },
      "source": [
        "print(eg1.n, eg1.s)\n",
        "print(eg2.n, eg2.s)"
      ],
      "execution_count": null,
      "outputs": [
        {
          "output_type": "stream",
          "text": [
            "one 1\n",
            "two 2\n"
          ],
          "name": "stdout"
        }
      ]
    },
    {
      "cell_type": "markdown",
      "metadata": {
        "id": "VOn34Z_87hG5"
      },
      "source": [
        "So now we have solved the error. Now let us compare the two examples that we saw.\n",
        "\n",
        "When I declared self.name and self.symbol, there was no attribute error for eg1.name and eg1.symbol and when I declared self.n and self.s, there was no attribute error for eg1.n and eg1.s\n",
        "\n",
        "From the above we can conclude that self is nothing but the instance itself.\n",
        "\n",
        "Remember, self is not predefined it is userdefined. You can make use of anything you are comfortable with. But it has become a common practice to use self."
      ]
    },
    {
      "cell_type": "markdown",
      "metadata": {
        "id": "igjSgSUm7hG5"
      },
      "source": [
        "Let us add some more methods to FirstClass."
      ]
    },
    {
      "cell_type": "code",
      "metadata": {
        "id": "EPje8dTY7hG5"
      },
      "source": [
        "class FirstClass:\n",
        "    def __init__(self,name,symbol):\n",
        "        self.name = name\n",
        "        self.symbol = symbol\n",
        "    def square(self):\n",
        "        return self.symbol * self.symbol\n",
        "    def cube(self):\n",
        "        return self.symbol * self.symbol * self.symbol\n",
        "    def multiply(self, x):\n",
        "        return self.symbol * x"
      ],
      "execution_count": null,
      "outputs": []
    },
    {
      "cell_type": "code",
      "metadata": {
        "id": "DYO3f1lP7hG5"
      },
      "source": [
        "eg4 = FirstClass('Five',5)"
      ],
      "execution_count": null,
      "outputs": []
    },
    {
      "cell_type": "code",
      "metadata": {
        "id": "txAhVJql7hG6",
        "outputId": "637f006c-f8aa-4510-94d2-8e4c64c568d9"
      },
      "source": [
        "print(eg4.square())\n",
        "print(eg4.cube())"
      ],
      "execution_count": null,
      "outputs": [
        {
          "output_type": "stream",
          "text": [
            "25\n",
            "125\n"
          ],
          "name": "stdout"
        }
      ]
    },
    {
      "cell_type": "code",
      "metadata": {
        "id": "6XzYEKir7hG6",
        "outputId": "d6f63e5f-3a30-4cf7-f042-bb114e24c8e0"
      },
      "source": [
        "eg4.multiply(2)"
      ],
      "execution_count": null,
      "outputs": [
        {
          "output_type": "execute_result",
          "data": {
            "text/plain": [
              "10"
            ]
          },
          "metadata": {
            "tags": []
          },
          "execution_count": 20
        }
      ]
    },
    {
      "cell_type": "markdown",
      "metadata": {
        "id": "S6gqO2r87hG7"
      },
      "source": [
        "The above can also be written as,"
      ]
    },
    {
      "cell_type": "code",
      "metadata": {
        "id": "wPZ2HEG57hG7",
        "outputId": "10f9f00b-2e76-43c3-fe18-4397ae156e98"
      },
      "source": [
        "FirstClass.multiply(eg4,2)"
      ],
      "execution_count": null,
      "outputs": [
        {
          "output_type": "execute_result",
          "data": {
            "text/plain": [
              "10"
            ]
          },
          "metadata": {
            "tags": []
          },
          "execution_count": 21
        }
      ]
    },
    {
      "cell_type": "markdown",
      "metadata": {
        "id": "0CXRTqKG7hG8"
      },
      "source": [
        "##Inheritance"
      ]
    },
    {
      "cell_type": "markdown",
      "metadata": {
        "id": "LSGIXccr7hG8"
      },
      "source": [
        "There might be cases where a new class would have all the previous characteristics of an already defined class. So the new class can \"inherit\" the previous class and add it's own methods to it. This is called as inheritance."
      ]
    },
    {
      "cell_type": "markdown",
      "metadata": {
        "id": "6aVTWlHs7hG9"
      },
      "source": [
        "Consider class SoftwareEngineer which has a method salary."
      ]
    },
    {
      "cell_type": "code",
      "metadata": {
        "collapsed": true,
        "id": "CMoa1jsx7hG9"
      },
      "source": [
        "class SoftwareEngineer:\n",
        "    def __init__(self,name,age):\n",
        "        self.name = name\n",
        "        self.age = age\n",
        "    def salary(self, value):\n",
        "        self.money = value\n",
        "        print self.name,\"earns\",self.money"
      ],
      "execution_count": null,
      "outputs": []
    },
    {
      "cell_type": "code",
      "metadata": {
        "id": "tE4VMbQE7hG9"
      },
      "source": [
        "a = SoftwareEngineer('Kartik',26)"
      ],
      "execution_count": null,
      "outputs": []
    },
    {
      "cell_type": "code",
      "metadata": {
        "id": "zcrFrVqx7hG9",
        "outputId": "c6d6d26a-dcb1-4af8-b449-cf772e930ab3"
      },
      "source": [
        "a.salary(40000)"
      ],
      "execution_count": null,
      "outputs": [
        {
          "output_type": "stream",
          "text": [
            "Kartik earns 40000\n"
          ],
          "name": "stdout"
        }
      ]
    },
    {
      "cell_type": "code",
      "metadata": {
        "id": "6nv6KdOJ7hG-",
        "outputId": "dc736958-0012-4f8f-d74e-3121e463a995"
      },
      "source": [
        "dir(SoftwareEngineer)"
      ],
      "execution_count": null,
      "outputs": [
        {
          "output_type": "execute_result",
          "data": {
            "text/plain": [
              "['__doc__', '__init__', '__module__', 'salary']"
            ]
          },
          "metadata": {
            "tags": []
          },
          "execution_count": 32
        }
      ]
    },
    {
      "cell_type": "markdown",
      "metadata": {
        "id": "tmU5YMdp7hG-"
      },
      "source": [
        "Now consider another class Artist which tells us about the amount of money an artist earns and his artform."
      ]
    },
    {
      "cell_type": "code",
      "metadata": {
        "id": "e2ZqlcdN7hG_"
      },
      "source": [
        "class Artist:\n",
        "    def __init__(self,name,age):\n",
        "        self.name = name\n",
        "        self.age = age\n",
        "    def money(self,value):\n",
        "        self.money = value\n",
        "        print self.name,\"earns\",self.money\n",
        "    def artform(self, job):\n",
        "        self.job = job\n",
        "        print self.name,\"is a\", self.job"
      ],
      "execution_count": null,
      "outputs": []
    },
    {
      "cell_type": "code",
      "metadata": {
        "collapsed": true,
        "id": "lDmlLxTu7hG_"
      },
      "source": [
        "b = Artist('Nitin',20)"
      ],
      "execution_count": null,
      "outputs": []
    },
    {
      "cell_type": "code",
      "metadata": {
        "id": "HLNP9U3T7hG_",
        "outputId": "af3ca0aa-f6cf-4aa9-e1df-7d6babda40a6"
      },
      "source": [
        "b.money(50000)\n",
        "b.artform('Musician')"
      ],
      "execution_count": null,
      "outputs": [
        {
          "output_type": "stream",
          "text": [
            "Nitin earns 50000\n",
            "Nitin is a Musician\n"
          ],
          "name": "stdout"
        }
      ]
    },
    {
      "cell_type": "code",
      "metadata": {
        "id": "jBpHImOs7hHA",
        "outputId": "5e995327-ad72-4015-cb44-38c1a1f50fff"
      },
      "source": [
        "dir(Artist)"
      ],
      "execution_count": null,
      "outputs": [
        {
          "output_type": "execute_result",
          "data": {
            "text/plain": [
              "['__doc__', '__init__', '__module__', 'artform', 'money']"
            ]
          },
          "metadata": {
            "tags": []
          },
          "execution_count": 36
        }
      ]
    },
    {
      "cell_type": "markdown",
      "metadata": {
        "id": "oHUXvxhH7hHA"
      },
      "source": [
        "money method and salary method are the same. So we can generalize the method to salary and inherit the SoftwareEngineer class to Artist class. Now the artist class becomes,"
      ]
    },
    {
      "cell_type": "code",
      "metadata": {
        "id": "0EhOq4Tl7hHA"
      },
      "source": [
        "class Artist(SoftwareEngineer):\n",
        "    def artform(self, job):\n",
        "        self.job = job\n",
        "        print self.name,\"is a\", self.job"
      ],
      "execution_count": null,
      "outputs": []
    },
    {
      "cell_type": "code",
      "metadata": {
        "id": "WwySEmVY7hHB"
      },
      "source": [
        "c = Artist('Nishanth',21)"
      ],
      "execution_count": null,
      "outputs": []
    },
    {
      "cell_type": "code",
      "metadata": {
        "id": "R-6UD0aM7hHB",
        "outputId": "6ce756f5-cc50-472c-c3e4-cfedf8f953d1"
      },
      "source": [
        "dir(Artist)"
      ],
      "execution_count": null,
      "outputs": [
        {
          "output_type": "execute_result",
          "data": {
            "text/plain": [
              "['__doc__', '__init__', '__module__', 'artform', 'salary']"
            ]
          },
          "metadata": {
            "tags": []
          },
          "execution_count": 39
        }
      ]
    },
    {
      "cell_type": "code",
      "metadata": {
        "id": "R8yNkcSp7hHB",
        "outputId": "e3aea169-fdb3-4140-b5bd-5ef86a5ca5d4"
      },
      "source": [
        "c.salary(60000)\n",
        "c.artform('Dancer')"
      ],
      "execution_count": null,
      "outputs": [
        {
          "output_type": "stream",
          "text": [
            "Nishanth earns 60000\n",
            "Nishanth is a Dancer\n"
          ],
          "name": "stdout"
        }
      ]
    },
    {
      "cell_type": "markdown",
      "metadata": {
        "id": "jX77UoJn7hHB"
      },
      "source": [
        "Suppose say while inheriting a particular method is not suitable for the new class. One can override this method by defining again that method with the same name inside the new class."
      ]
    },
    {
      "cell_type": "code",
      "metadata": {
        "collapsed": true,
        "id": "oF-ocFBd7hHC"
      },
      "source": [
        "class Artist(SoftwareEngineer):\n",
        "    def artform(self, job):\n",
        "        self.job = job\n",
        "        print self.name,\"is a\", self.job\n",
        "    def salary(self, value):\n",
        "        self.money = value\n",
        "        print self.name,\"earns\",self.money\n",
        "        print \"I am overriding the SoftwareEngineer class's salary method\""
      ],
      "execution_count": null,
      "outputs": []
    },
    {
      "cell_type": "code",
      "metadata": {
        "collapsed": true,
        "id": "_Ywx9DQ47hHC"
      },
      "source": [
        "c = Artist('Nishanth',21)"
      ],
      "execution_count": null,
      "outputs": []
    },
    {
      "cell_type": "code",
      "metadata": {
        "id": "JAqMGNkc7hHC",
        "outputId": "3c37bc55-b010-4b49-ec87-087d84cb6674"
      },
      "source": [
        "c.salary(60000)\n",
        "c.artform('Dancer')"
      ],
      "execution_count": null,
      "outputs": [
        {
          "output_type": "stream",
          "text": [
            "Nishanth earns 60000\n",
            "I am overriding the SoftwareEngineer class's salary method\n",
            "Nishanth is a Dancer\n"
          ],
          "name": "stdout"
        }
      ]
    },
    {
      "cell_type": "markdown",
      "metadata": {
        "id": "aVhXmvI47hHD"
      },
      "source": [
        "If not sure how many times methods will be called it will become difficult to declare so many variables to carry each result hence it is better to declare a list and append the result."
      ]
    },
    {
      "cell_type": "code",
      "metadata": {
        "id": "WwBKIpwA7hHD"
      },
      "source": [
        "class emptylist:\n",
        "    def __init__(self):\n",
        "        self.data = []\n",
        "    def one(self,x):\n",
        "        self.data.append(x)\n",
        "    def two(self, x ):\n",
        "        self.data.append(x**2)\n",
        "    def three(self, x):\n",
        "        self.data.append(x**3)"
      ],
      "execution_count": null,
      "outputs": []
    },
    {
      "cell_type": "code",
      "metadata": {
        "id": "kniD-CJq7hHD"
      },
      "source": [
        "xc = emptylist()"
      ],
      "execution_count": null,
      "outputs": []
    },
    {
      "cell_type": "code",
      "metadata": {
        "id": "BO4dbCKL7hHD",
        "outputId": "ea6eae2a-46c9-4bd2-82bc-b77717473d99"
      },
      "source": [
        "xc.one(1)\n",
        "print(xc.data)"
      ],
      "execution_count": null,
      "outputs": [
        {
          "output_type": "stream",
          "text": [
            "[1]\n"
          ],
          "name": "stdout"
        }
      ]
    },
    {
      "cell_type": "markdown",
      "metadata": {
        "id": "oTO_T0Fb7hHE"
      },
      "source": [
        "Since xc.data is a list direct list operations can also be performed."
      ]
    },
    {
      "cell_type": "code",
      "metadata": {
        "id": "7JRI940-7hHE",
        "outputId": "a38c5f8a-458a-48c6-dd55-640db28cef12"
      },
      "source": [
        "xc.data.append(8)\n",
        "print(xc.data)"
      ],
      "execution_count": null,
      "outputs": [
        {
          "output_type": "stream",
          "text": [
            "[1, 8]\n"
          ],
          "name": "stdout"
        }
      ]
    },
    {
      "cell_type": "code",
      "metadata": {
        "id": "MWoP0QBX7hHE",
        "outputId": "adf7ffe3-589d-46ac-e077-edd2d3f19d78"
      },
      "source": [
        "xc.two(3)\n",
        "print(xc.data)"
      ],
      "execution_count": null,
      "outputs": [
        {
          "output_type": "stream",
          "text": [
            "[1, 8, 9]\n"
          ],
          "name": "stdout"
        }
      ]
    },
    {
      "cell_type": "markdown",
      "metadata": {
        "id": "JWUWMq5s7hHF"
      },
      "source": [
        "If the number of input arguments varies from instance to instance asterisk can be used as shown."
      ]
    },
    {
      "cell_type": "code",
      "metadata": {
        "id": "wVONt31q7hHF"
      },
      "source": [
        "class NotSure:\n",
        "    def __init__(self, *args):\n",
        "        self.data = ''.join(list(args)) "
      ],
      "execution_count": null,
      "outputs": []
    },
    {
      "cell_type": "code",
      "metadata": {
        "id": "zUaiISvF7hHF"
      },
      "source": [
        "yz = NotSure('I', 'Do' , 'Not', 'Know', 'What', 'To','Type')"
      ],
      "execution_count": null,
      "outputs": []
    },
    {
      "cell_type": "code",
      "metadata": {
        "id": "BmDy-twX7hHF",
        "outputId": "1d0807a7-577e-4034-c5de-dee634e5dc7a"
      },
      "source": [
        "yz.data"
      ],
      "execution_count": null,
      "outputs": [
        {
          "output_type": "execute_result",
          "data": {
            "text/plain": [
              "'IDoNotKnowWhatToType'"
            ]
          },
          "metadata": {
            "tags": []
          },
          "execution_count": 32
        }
      ]
    },
    {
      "cell_type": "code",
      "metadata": {
        "id": "0Sb_fLIX7hHG"
      },
      "source": [
        ""
      ],
      "execution_count": null,
      "outputs": []
    }
  ]
}