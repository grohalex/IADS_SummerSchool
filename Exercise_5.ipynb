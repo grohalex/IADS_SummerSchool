{
  "nbformat": 4,
  "nbformat_minor": 0,
  "metadata": {
    "kernelspec": {
      "display_name": "Python 3",
      "language": "python",
      "name": "python3"
    },
    "language_info": {
      "codemirror_mode": {
        "name": "ipython",
        "version": 3
      },
      "file_extension": ".py",
      "mimetype": "text/x-python",
      "name": "python",
      "nbconvert_exporter": "python",
      "pygments_lexer": "ipython3",
      "version": "3.6.5"
    },
    "colab": {
      "name": "Exercise_5.ipynb",
      "provenance": [],
      "include_colab_link": true
    }
  },
  "cells": [
    {
      "cell_type": "markdown",
      "metadata": {
        "id": "view-in-github",
        "colab_type": "text"
      },
      "source": [
        "<a href=\"https://colab.research.google.com/github/grohalex/IADS_SummerSchool/blob/main/Exercise_5.ipynb\" target=\"_parent\"><img src=\"https://colab.research.google.com/assets/colab-badge.svg\" alt=\"Open In Colab\"/></a>"
      ]
    },
    {
      "cell_type": "markdown",
      "metadata": {
        "id": "FbWKc54FYg8_"
      },
      "source": [
        "## Functions\n",
        "Most of the times, In a algorithm the statements keep repeating and it will be a tedious job to execute the same statements again and again and will consume a lot of memory and is not efficient. Enter Functions."
      ]
    },
    {
      "cell_type": "code",
      "metadata": {
        "id": "gX0zviLzYg9B",
        "outputId": "b27d93a3-7dc3-4838-e015-b32bfd990cd1"
      },
      "source": [
        "print(\"Hey Adam!\")\n",
        "print(\"Adam, How do you do?\")"
      ],
      "execution_count": null,
      "outputs": [
        {
          "output_type": "stream",
          "text": [
            "Hey Adam!\n",
            "Adam, How do you do?\n"
          ],
          "name": "stdout"
        }
      ]
    },
    {
      "cell_type": "code",
      "metadata": {
        "id": "T5jRmCgCYg9C"
      },
      "source": [
        "def firstfunc():\n",
        "    print(\"Hey Adam!\")\n",
        "    print(\"Adam, How do you do?\")"
      ],
      "execution_count": null,
      "outputs": []
    },
    {
      "cell_type": "code",
      "metadata": {
        "id": "9PPBTUq3Yg9C",
        "outputId": "a01d28cc-7559-42e9-a336-1babbb2c0903"
      },
      "source": [
        "firstfunc()"
      ],
      "execution_count": null,
      "outputs": [
        {
          "output_type": "stream",
          "text": [
            "Hey Adam!\n",
            "Adam, How do you do?\n"
          ],
          "name": "stdout"
        }
      ]
    },
    {
      "cell_type": "markdown",
      "metadata": {
        "id": "7vIdiR6jYg9D"
      },
      "source": [
        "**firstfunc()** every time just prints the message to a single person. We can make our function **firstfunc()** to accept arguements which will store the name and then prints respective to that accepted name. To do so, add a argument within the function as shown."
      ]
    },
    {
      "cell_type": "code",
      "metadata": {
        "id": "fUiXFflcYg9D"
      },
      "source": [
        "def firstfunc1(username):\n",
        "    print(\"Hey\", username + '!')\n",
        "    print(username + ',' ,\"How do you do?\")"
      ],
      "execution_count": null,
      "outputs": []
    },
    {
      "cell_type": "code",
      "metadata": {
        "id": "ixqQ5S2DYg9D",
        "outputId": "39ad2cf5-b3a2-4155-8be5-f959957225bf"
      },
      "source": [
        "name1 = firstfunc1('Haider : ')"
      ],
      "execution_count": null,
      "outputs": [
        {
          "output_type": "stream",
          "text": [
            "Hey Haider : !\n",
            "Haider : , How do you do?\n"
          ],
          "name": "stdout"
        }
      ]
    },
    {
      "cell_type": "markdown",
      "metadata": {
        "id": "rf5doXjlYg9E"
      },
      "source": [
        "## Return Statement\n",
        "\n",
        "When the function results in some value and that value has to be stored in a variable or needs to be sent back or returned for further operation to the main algorithm, return statement is used."
      ]
    },
    {
      "cell_type": "code",
      "metadata": {
        "id": "Q_OsqiOCYg9E"
      },
      "source": [
        "def times(x,y):\n",
        "    z = x*y\n",
        "    return(z)"
      ],
      "execution_count": null,
      "outputs": []
    },
    {
      "cell_type": "code",
      "metadata": {
        "id": "Hc5jMIVgYg9F",
        "outputId": "5f19a9b0-1ac4-4674-968a-3c48f39165c2"
      },
      "source": [
        "times(5,6)"
      ],
      "execution_count": null,
      "outputs": [
        {
          "output_type": "execute_result",
          "data": {
            "text/plain": [
              "30"
            ]
          },
          "metadata": {
            "tags": []
          },
          "execution_count": 11
        }
      ]
    },
    {
      "cell_type": "code",
      "metadata": {
        "id": "Rf_PggZ-Yg9F",
        "outputId": "5763a487-6394-42ff-ee42-e98376d52085"
      },
      "source": [
        "c = times(4,5)\n",
        "print(c)"
      ],
      "execution_count": null,
      "outputs": [
        {
          "output_type": "stream",
          "text": [
            "20\n"
          ],
          "name": "stdout"
        }
      ]
    },
    {
      "cell_type": "code",
      "metadata": {
        "id": "2X2vRuA1Yg9G"
      },
      "source": [
        "eglist = [10,50,30,12,6,8,100]"
      ],
      "execution_count": null,
      "outputs": []
    },
    {
      "cell_type": "code",
      "metadata": {
        "id": "-5uNbzJiYg9G"
      },
      "source": [
        "def egfunc(eglist):\n",
        "    highest = max(eglist)\n",
        "    lowest = min(eglist)\n",
        "    first = eglist[0]\n",
        "    last = eglist[-1]\n",
        "    return highest,lowest,first,last"
      ],
      "execution_count": null,
      "outputs": []
    },
    {
      "cell_type": "code",
      "metadata": {
        "id": "vFMgS3vnYg9G",
        "outputId": "a7877128-9a32-41d6-fefe-add184a09975"
      },
      "source": [
        "egfunc(eglist)"
      ],
      "execution_count": null,
      "outputs": [
        {
          "output_type": "execute_result",
          "data": {
            "text/plain": [
              "(100, 6, 10, 100)"
            ]
          },
          "metadata": {
            "tags": []
          },
          "execution_count": 15
        }
      ]
    },
    {
      "cell_type": "markdown",
      "metadata": {
        "id": "vPr573eJYg9H"
      },
      "source": [
        "## Implicit arguments\n",
        "\n",
        "When an argument of a function is common in majority of the cases or it is \"implicit\" this concept is used."
      ]
    },
    {
      "cell_type": "code",
      "metadata": {
        "id": "uNjsyZjPYg9I"
      },
      "source": [
        "def implicitadd(x,y=3):\n",
        "    return x+y"
      ],
      "execution_count": null,
      "outputs": []
    },
    {
      "cell_type": "code",
      "metadata": {
        "id": "2ra3Sg_uYg9I",
        "outputId": "863ef6ff-a96b-422e-c71b-8db6393b09af"
      },
      "source": [
        "implicitadd(4)"
      ],
      "execution_count": null,
      "outputs": [
        {
          "output_type": "execute_result",
          "data": {
            "text/plain": [
              "7"
            ]
          },
          "metadata": {
            "tags": []
          },
          "execution_count": 17
        }
      ]
    },
    {
      "cell_type": "code",
      "metadata": {
        "id": "zagMV-TrYg9J",
        "outputId": "55fb1189-ded0-4a06-d408-8a90f5538de1"
      },
      "source": [
        "implicitadd(4,6)"
      ],
      "execution_count": null,
      "outputs": [
        {
          "output_type": "execute_result",
          "data": {
            "text/plain": [
              "10"
            ]
          },
          "metadata": {
            "tags": []
          },
          "execution_count": 18
        }
      ]
    },
    {
      "cell_type": "markdown",
      "metadata": {
        "id": "Rx7JH7i5Yg9J"
      },
      "source": [
        ""
      ]
    },
    {
      "cell_type": "code",
      "metadata": {
        "id": "5I0TaCHYYg9J"
      },
      "source": [
        ""
      ],
      "execution_count": null,
      "outputs": []
    },
    {
      "cell_type": "markdown",
      "metadata": {
        "id": "jaCh5OD6Yg9K"
      },
      "source": [
        "pass in python means do nothing."
      ]
    },
    {
      "cell_type": "code",
      "metadata": {
        "id": "h6PJzuylYg9K"
      },
      "source": [
        ""
      ],
      "execution_count": null,
      "outputs": []
    },
    {
      "cell_type": "code",
      "metadata": {
        "id": "npxqTEaoYg9K"
      },
      "source": [
        ""
      ],
      "execution_count": null,
      "outputs": []
    },
    {
      "cell_type": "code",
      "metadata": {
        "id": "1mlAQh4fYg9K"
      },
      "source": [
        ""
      ],
      "execution_count": null,
      "outputs": []
    },
    {
      "cell_type": "code",
      "metadata": {
        "id": "Yld2l9HQYg9K"
      },
      "source": [
        ""
      ],
      "execution_count": null,
      "outputs": []
    },
    {
      "cell_type": "code",
      "metadata": {
        "id": "BJfiuFHgYg9L"
      },
      "source": [
        ""
      ],
      "execution_count": null,
      "outputs": []
    },
    {
      "cell_type": "code",
      "metadata": {
        "id": "XQbNn-o2Yg9L"
      },
      "source": [
        ""
      ],
      "execution_count": null,
      "outputs": []
    }
  ]
}