{
  "nbformat": 4,
  "nbformat_minor": 0,
  "metadata": {
    "colab": {
      "name": "day5-Practical_Iris.ipynb",
      "provenance": [],
      "include_colab_link": true
    },
    "kernelspec": {
      "name": "python3",
      "display_name": "Python 3"
    },
    "language_info": {
      "name": "python"
    }
  },
  "cells": [
    {
      "cell_type": "markdown",
      "metadata": {
        "id": "view-in-github",
        "colab_type": "text"
      },
      "source": [
        "<a href=\"https://colab.research.google.com/github/grohalex/IADS_SummerSchool/blob/main/day5_Practical_Iris.ipynb\" target=\"_parent\"><img src=\"https://colab.research.google.com/assets/colab-badge.svg\" alt=\"Open In Colab\"/></a>"
      ]
    },
    {
      "cell_type": "code",
      "metadata": {
        "id": "-wm3qXZPd9ts"
      },
      "source": [
        "# packages\n",
        "!pip install lime\n",
        "!pip install graphviz\n",
        "!pip install pydotplus"
      ],
      "execution_count": null,
      "outputs": []
    },
    {
      "cell_type": "code",
      "metadata": {
        "id": "HmlozMWIi6Tc"
      },
      "source": [
        "# imports\n",
        "from sklearn.datasets import load_iris\n",
        "from sklearn.model_selection import train_test_split\n",
        "from sklearn.tree import DecisionTreeClassifier\n",
        "from sklearn.ensemble import RandomForestClassifier\n",
        "from sklearn import metrics\n",
        "from sklearn.metrics import classification_report\n",
        "from sklearn.metrics import confusion_matrix\n",
        "from sklearn.metrics import accuracy_score\n",
        "from sklearn.svm import SVC\n",
        "from sklearn import tree\n",
        "from sklearn.tree import export_graphviz\n",
        "from sklearn.externals.six import StringIO  \n",
        "\n",
        "from IPython.display import Image  \n",
        "import pydotplus\n",
        "\n",
        "from collections import Counter\n",
        "import pandas as pd\n",
        "import numpy as np\n",
        "\n",
        "import lime\n",
        "import lime.lime_tabular\n",
        "from __future__ import print_function\n",
        "np.random.seed(1)\n"
      ],
      "execution_count": null,
      "outputs": []
    },
    {
      "cell_type": "markdown",
      "metadata": {
        "id": "_3rs26afjGPV"
      },
      "source": [
        "# Decision Tree"
      ]
    },
    {
      "cell_type": "code",
      "metadata": {
        "id": "Od_n6jbTjIfA"
      },
      "source": [
        "d = load_iris()\n",
        "data = pd.DataFrame(data=d.data, columns=d.feature_names)\n",
        "data.head()"
      ],
      "execution_count": null,
      "outputs": []
    },
    {
      "cell_type": "code",
      "metadata": {
        "id": "X25O3Nj4jOlZ"
      },
      "source": [
        "labels = [d.target_names[v] for v in d.target]\n",
        "Counter(labels)"
      ],
      "execution_count": null,
      "outputs": []
    },
    {
      "cell_type": "code",
      "metadata": {
        "id": "VbAOH5X4jQY6"
      },
      "source": [
        "col_names = d.feature_names\n",
        "col_names"
      ],
      "execution_count": null,
      "outputs": []
    },
    {
      "cell_type": "markdown",
      "metadata": {
        "id": "WB8WlsuosM-Q"
      },
      "source": [
        "# **Practical 1**"
      ]
    },
    {
      "cell_type": "markdown",
      "metadata": {
        "id": "G9DbDvreozYs"
      },
      "source": [
        "## Decision Tree"
      ]
    },
    {
      "cell_type": "code",
      "metadata": {
        "id": "zdecSCP8nnkD"
      },
      "source": [
        "# TODO: split the dataset into training and testing sets\u000b"
      ],
      "execution_count": null,
      "outputs": []
    },
    {
      "cell_type": "code",
      "metadata": {
        "id": "mIDrOrCqnybX"
      },
      "source": [
        "# TODO: implement a DecisionTreeClassifier (check its documentation page from sklearn)"
      ],
      "execution_count": null,
      "outputs": []
    },
    {
      "cell_type": "code",
      "metadata": {
        "id": "FDveYR4ioBi_"
      },
      "source": [
        "# TODO: compute model accuracy on the testing set"
      ],
      "execution_count": null,
      "outputs": []
    },
    {
      "cell_type": "code",
      "metadata": {
        "id": "Z_EstaTkofBu"
      },
      "source": [
        "# visualise the tree\n",
        "# clf is the classifier - replace with the variable name of your classifier\n",
        "dot_data = StringIO()\n",
        "export_graphviz(clf, out_file=dot_data,  \n",
        "                filled=True, rounded=True,\n",
        "                special_characters=True,feature_names = col_names, \n",
        "                class_names=['setosa', 'versicolour', 'virginica'])\n",
        "graph = pydotplus.graph_from_dot_data(dot_data.getvalue())  \n",
        "graph.write_png('iris.png')\n",
        "Image(graph.create_png())"
      ],
      "execution_count": null,
      "outputs": []
    },
    {
      "cell_type": "markdown",
      "metadata": {
        "id": "bHOm-WDnsTv2"
      },
      "source": [
        "# **Practical 2**"
      ]
    },
    {
      "cell_type": "markdown",
      "metadata": {
        "id": "Fz2b7xMgo4Gp"
      },
      "source": [
        "## SVM"
      ]
    },
    {
      "cell_type": "code",
      "metadata": {
        "id": "cEnyFxaJo6Qp"
      },
      "source": [
        "# implement SVM (check documentation of SVC from sklearn)"
      ],
      "execution_count": null,
      "outputs": []
    },
    {
      "cell_type": "markdown",
      "metadata": {
        "id": "MRmCrd2srCZn"
      },
      "source": [
        "## Feature pertubation"
      ]
    },
    {
      "cell_type": "code",
      "metadata": {
        "id": "GoYtQEtfrGSv"
      },
      "source": [
        "# select an instance \n",
        "i = 10\n",
        "\n",
        "# make a copy of the existing data point so we can modify it without altering our data\n",
        "temp = test[i].copy()\n",
        "\n",
        "# get the indices of the features: sepal length (cm);\tsepal width (cm);\tpetal length (cm);\tpetal width (cm)\n",
        "feature_index = lambda x: iris.feature_names.index(x)"
      ],
      "execution_count": null,
      "outputs": []
    },
    {
      "cell_type": "code",
      "metadata": {
        "id": "6WI2GPuhrhvB"
      },
      "source": [
        "print('Increasing petal width')\n",
        "print('P(setosa) before:', svc_clf.predict_proba(temp.reshape(1,-1))[0,0])\n",
        "# TODO: set some value to the petal width feature\n",
        "\n",
        "# TODO: print the SVM's prediction of the new instance"
      ],
      "execution_count": null,
      "outputs": []
    },
    {
      "cell_type": "code",
      "metadata": {
        "id": "_OuXNApJriMG"
      },
      "source": [
        "print('Increasing petal length')\n",
        "# TODO: do the same but for petal length feature"
      ],
      "execution_count": null,
      "outputs": []
    },
    {
      "cell_type": "code",
      "metadata": {
        "id": "IBpLlVzsriia"
      },
      "source": [
        "print('Increasing both')\n",
        "# TODO: do the same but for both features: petal width and petal length"
      ],
      "execution_count": null,
      "outputs": []
    },
    {
      "cell_type": "code",
      "metadata": {
        "id": "OwXt_52Ms7MZ"
      },
      "source": [
        "# the above can be done simply by passing in a point, predicting its class, and the modifying it\n",
        "# this will predict probabilities for each class\n",
        "# TODO: use SVM to predict probabilites of several, manually created datapoints"
      ],
      "execution_count": null,
      "outputs": []
    },
    {
      "cell_type": "markdown",
      "metadata": {
        "id": "M6YVdaR4sfe8"
      },
      "source": [
        "# **Practical 5**"
      ]
    },
    {
      "cell_type": "code",
      "metadata": {
        "id": "7SpbTVRqslR_"
      },
      "source": [
        "# TODO: use LimeTabularExplainer to explain predictions"
      ],
      "execution_count": null,
      "outputs": []
    },
    {
      "cell_type": "code",
      "metadata": {
        "id": "Wmmp8tQ-tP8Y"
      },
      "source": [
        "# exp is the explained instance\n",
        "exp.show_in_notebook(show_table=True, show_all=False) # show_all=False means we display only the features used in explanations"
      ],
      "execution_count": null,
      "outputs": []
    }
  ]
}