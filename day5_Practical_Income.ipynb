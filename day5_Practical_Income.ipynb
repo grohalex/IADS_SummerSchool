{
  "nbformat": 4,
  "nbformat_minor": 0,
  "metadata": {
    "colab": {
      "name": "day5-Practical_Income.ipynb",
      "provenance": [],
      "include_colab_link": true
    },
    "kernelspec": {
      "name": "python3",
      "display_name": "Python 3"
    },
    "language_info": {
      "name": "python"
    }
  },
  "cells": [
    {
      "cell_type": "markdown",
      "metadata": {
        "id": "view-in-github",
        "colab_type": "text"
      },
      "source": [
        "<a href=\"https://colab.research.google.com/github/grohalex/IADS_SummerSchool/blob/main/day5_Practical_Income.ipynb\" target=\"_parent\"><img src=\"https://colab.research.google.com/assets/colab-badge.svg\" alt=\"Open In Colab\"/></a>"
      ]
    },
    {
      "cell_type": "code",
      "metadata": {
        "id": "2VacGZ1IeBGO"
      },
      "source": [
        "!pip install lime\n",
        "!pip install shap"
      ],
      "execution_count": null,
      "outputs": []
    },
    {
      "cell_type": "code",
      "metadata": {
        "id": "h7XbdMNlvmaZ"
      },
      "source": [
        "import numpy as np\n",
        "import pandas as pd\n",
        "import shap\n",
        "from shap.datasets import adult\n",
        "from collections import Counter\n",
        "\n",
        "from sklearn.tree import DecisionTreeClassifier\n",
        "from sklearn.ensemble import RandomForestClassifier\n",
        "from sklearn.inspection import plot_partial_dependence\n",
        "from sklearn.model_selection import train_test_split\n",
        "from sklearn.metrics import classification_report\n",
        "from sklearn.metrics import confusion_matrix\n",
        "from sklearn.metrics import accuracy_score\n",
        "from sklearn.svm import SVC\n",
        "from sklearn import tree\n",
        "from sklearn.tree import export_graphviz\n",
        "from sklearn.externals.six import StringIO\n",
        "\n",
        "from IPython.display import Image  \n",
        "import pydotplus\n",
        "\n",
        "from IPython.core.pylabtools import figsize\n",
        "import matplotlib.pyplot as plt\n",
        "\n",
        "import lime \n",
        "import lime.lime_tabular"
      ],
      "execution_count": null,
      "outputs": []
    },
    {
      "cell_type": "markdown",
      "metadata": {
        "id": "oZpNufNrvqux"
      },
      "source": [
        "# Data\n",
        "\n",
        "We have 12 features and we need to predict if the income of a person will be more than 50K or less than 50K\n",
        "\n",
        "Attributes:\n",
        "\n",
        "Outcome: >50K, <=50K.\n",
        "\n",
        "age: continuous.\n",
        "\n",
        "workclass: Private, Self-emp-not-inc, Self-emp-inc, Federal-gov, Local-gov, State-gov, Without-pay, Never-worked.\n",
        "\n",
        "education-num: categorical (Numeric representation of educational qualification ranging from 1-16: Bachelors, Some-college, 11th, HS-grad, Prof-school, Assoc-acdm, Assoc-voc, 9th, 7th-8th, 12th, Masters, 1st-4th, 10th, Doctorate, 5th-6th, Preschool).\n",
        "\n",
        "marital-status: Married-civ-spouse, Divorced, Never-married, Separated, Widowed, Married-spouse-absent, Married-AF-spouse.\n",
        "\n",
        "occupation: Tech-support, Craft-repair, Other-service, Sales, Exec-managerial, Prof-specialty, Handlers-cleaners, Machine-op-inspct, Adm-clerical, Farming-fishing, Transport-moving, Priv-house-serv, Protective-serv, Armed-Forces.\n",
        "\n",
        "relationship: Wife, Own-child, Husband, Not-in-family, Other-relative, Unmarried.\n",
        "\n",
        "race: White, Asian-Pac-Islander, Amer-Indian-Eskimo, Other, Black.\n",
        "\n",
        "sex: Female, Male.\n",
        "\n",
        "capital-gain: continuous.\n",
        "\n",
        "capital-loss: continuous.\n",
        "\n",
        "hours-per-week: continuous.\n",
        "\n",
        "country: United-States, Cambodia, England, Puerto-Rico, Canada, Germany, Outlying-US(Guam-USVI-etc), India, Japan, Greece, South, China, Cuba, Iran, Honduras, Philippines, Italy, Poland, Jamaica, Vietnam, Mexico, Portugal, Ireland, France, Dominican-Republic, Laos, Ecuador, Taiwan, Haiti, Columbia, Hungary, Guatemala, Nicaragua, Scotland, Thailand, Yugoslavia, El-Salvador, Trinadad&Tobago, Peru, Hong, Holand-Netherlands."
      ]
    },
    {
      "cell_type": "code",
      "metadata": {
        "id": "k83MBK-_v5c7"
      },
      "source": [
        "data, labels = adult(display=True)\n",
        "labels = np.array([int(label) for label in labels])\n",
        "data.shape, labels.shape"
      ],
      "execution_count": null,
      "outputs": []
    },
    {
      "cell_type": "code",
      "metadata": {
        "id": "awoy8pkEv7V7"
      },
      "source": [
        "Counter(labels)"
      ],
      "execution_count": null,
      "outputs": []
    },
    {
      "cell_type": "code",
      "metadata": {
        "id": "gZZ6KkBlv9rJ"
      },
      "source": [
        "data.head()"
      ],
      "execution_count": null,
      "outputs": []
    },
    {
      "cell_type": "code",
      "metadata": {
        "id": "jBPEZph3v_9L"
      },
      "source": [
        "column_names = list(data.columns)\n",
        "column_names"
      ],
      "execution_count": null,
      "outputs": []
    },
    {
      "cell_type": "markdown",
      "metadata": {
        "id": "sL7QYWO0wJYn"
      },
      "source": [
        "## **Practical 3**"
      ]
    },
    {
      "cell_type": "code",
      "metadata": {
        "id": "414w2XDwwomi"
      },
      "source": [
        "# TODO: convert categorical values to numeric values\u000b"
      ],
      "execution_count": null,
      "outputs": []
    },
    {
      "cell_type": "code",
      "metadata": {
        "id": "_nxhpy_9ws-M"
      },
      "source": [
        "# TODO: split the dataset into training and testing sets\u000b"
      ],
      "execution_count": null,
      "outputs": []
    },
    {
      "cell_type": "code",
      "metadata": {
        "id": "bFUPU0iywu4N"
      },
      "source": [
        "# TODO: implement a DecisionTreeClassifier"
      ],
      "execution_count": null,
      "outputs": []
    },
    {
      "cell_type": "code",
      "metadata": {
        "id": "TvEUB9Kzw7Fr"
      },
      "source": [
        "# dt is the tree to visualise - replace with the variable name of the decision tree classifier\n",
        "dot_data = StringIO()\n",
        "export_graphviz(dt, out_file=dot_data,  \n",
        "                feature_names = column_names, \n",
        "                class_names=['<50K', '>50K'])\n",
        "graph = pydotplus.graph_from_dot_data(dot_data.getvalue())  \n",
        "graph.write_png('income.png')\n",
        "Image(graph.create_png())"
      ],
      "execution_count": null,
      "outputs": []
    },
    {
      "cell_type": "code",
      "metadata": {
        "id": "W_za81m1xHHS"
      },
      "source": [
        "# TODO: implement a RandomForestClassifier"
      ],
      "execution_count": null,
      "outputs": []
    },
    {
      "cell_type": "code",
      "metadata": {
        "id": "JMEF4VMexSux"
      },
      "source": [
        "# TODO: compute accuracy and confusion matrix for the testing set"
      ],
      "execution_count": null,
      "outputs": []
    },
    {
      "cell_type": "markdown",
      "metadata": {
        "id": "vQuEVk4bxhbI"
      },
      "source": [
        "## **Practical 4**"
      ]
    },
    {
      "cell_type": "code",
      "metadata": {
        "id": "Z7TROqHl4He-"
      },
      "source": [
        "# TODO: sort features by importance (see feature_importances_ in RandomForestClassifier)"
      ],
      "execution_count": null,
      "outputs": []
    },
    {
      "cell_type": "code",
      "metadata": {
        "id": "NILTVMpP4ZH8"
      },
      "source": [
        "# plot feature_results\n",
        "figsize(12, 10)\n",
        "plt.style.use('fivethirtyeight')\n",
        "\n",
        "# Plot the 10 most important features in a horizontal bar chart\n",
        "feature_results.loc[:9, :].plot(x = 'feature', y = 'importance', \n",
        "                                 edgecolor = 'k',\n",
        "                                 kind='barh', color = 'blue');\n",
        "plt.xlabel('Relative Importance', size = 20); plt.ylabel('')\n",
        "plt.title('Feature Importance', size = 30);"
      ],
      "execution_count": null,
      "outputs": []
    },
    {
      "cell_type": "code",
      "metadata": {
        "id": "svAErEIF4kte"
      },
      "source": [
        "# TODO: plot partial dependence for several, individual features"
      ],
      "execution_count": null,
      "outputs": []
    },
    {
      "cell_type": "code",
      "metadata": {
        "id": "f5mX5JtJ4xpo"
      },
      "source": [
        "# TODO: plot partial dependence for combinations of 2 features"
      ],
      "execution_count": null,
      "outputs": []
    },
    {
      "cell_type": "markdown",
      "metadata": {
        "id": "kfXsjuXC48zF"
      },
      "source": [
        "## **Practical 5**"
      ]
    },
    {
      "cell_type": "code",
      "metadata": {
        "id": "zBMRTmsH4-Yq"
      },
      "source": [
        "# TODO: use LimeTabularExplainer"
      ],
      "execution_count": null,
      "outputs": []
    }
  ]
}